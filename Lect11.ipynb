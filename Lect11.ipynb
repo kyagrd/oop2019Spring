{
 "cells": [
  {
   "cell_type": "markdown",
   "metadata": {},
   "source": [
    "# Iterable, Iterator 인터페이스에 대해 알아보기\n",
    "## 교과서 44-06 관련 심화 내용 p653부터\n",
    "## Node 타입의 인스턴스 변수를 갖는 MyList 클래스 정의\n",
    "## MyList 클래스가 Iterable 인터페이스를 구현하도록"
   ]
  },
  {
   "cell_type": "code",
   "execution_count": 21,
   "metadata": {},
   "outputs": [
    {
     "data": {
      "text/plain": [
       "com.twosigma.beaker.javash.bkr882cbc5d.Node"
      ]
     },
     "execution_count": 21,
     "metadata": {},
     "output_type": "execute_result"
    }
   ],
   "source": [
    "class Node<T> {\n",
    "    private final T value;\n",
    "    private final Node<T> next;\n",
    "    Node(T v, Node<T> n) { value=v; next=n; }\n",
    "    T head() { return value; }\n",
    "    Node<T> tail() { return next; }\n",
    "}"
   ]
  },
  {
   "cell_type": "code",
   "execution_count": 22,
   "metadata": {},
   "outputs": [
    {
     "data": {
      "text/plain": [
       "null"
      ]
     },
     "execution_count": 22,
     "metadata": {},
     "output_type": "execute_result"
    }
   ],
   "source": [
    "/*\n",
    "import java.util.*;\n",
    "\n",
    "// MyList의 추상적인 포인터 역할을 하는 물건 (반복자)\n",
    "class MyIter<T> implements Iterator<T> {\n",
    "    private Node<T> node_next; // 다음 번 처리할 위치의 노드\n",
    "    MyIter(Node<T> l) { node_next=l; }\n",
    "    @Override\n",
    "    public boolean hasNext() { return node_next!=null; }\n",
    "    @Override\n",
    "    public T next() { // 1. 다음번 처리할 노드의 값을 리턴한다\n",
    "                      // 2. node_next를 그 다음으로 이동시킨다\n",
    "        T v = node_next.head();\n",
    "        node_next = node_next.tail();\n",
    "        return v;\n",
    "    }\n",
    "}\n",
    "\n",
    "class MyList<T> implements Iterable<T> {\n",
    "    private Node<T> list;\n",
    "    @Override\n",
    "    public Iterator<T> iterator() {\n",
    "        return new MyIter<>(list);\n",
    "    }\n",
    "}\n",
    "*/"
   ]
  },
  {
   "cell_type": "code",
   "execution_count": 23,
   "metadata": {},
   "outputs": [
    {
     "data": {
      "text/plain": [
       "com.twosigma.beaker.javash.bkr882cbc5d.MyIter"
      ]
     },
     "execution_count": 23,
     "metadata": {},
     "output_type": "execute_result"
    }
   ],
   "source": [
    "import java.util.*; // Iterator 를 사용하려면\n",
    "\n",
    "class MyIter<T> implements Iterator<T> {\n",
    "    private Node<T> next_node;\n",
    "    MyIter(Node<T> l) { next_node = l; }\n",
    "    @Override\n",
    "    public boolean hasNext() { return next_node!=null; }\n",
    "    @Override\n",
    "    public T next() { // (1) 다음 지점의 값을 읽어와 리턴, (2) 하나 더 다음 위치로 next_node 이동\n",
    "        T v = next_node.head();\n",
    "        next_node = next_node.tail();\n",
    "        return v;\n",
    "    }\n",
    "}\n",
    "\n",
    "class MyList<T> implements Iterable<T> {\n",
    "    private Node<T> list;\n",
    "    void addFirst(T v) { list = new Node<T>(v, list); }\n",
    "    @Override\n",
    "    public Iterator<T> iterator() {\n",
    "        return new MyIter<>(list);\n",
    "    }\n",
    "}"
   ]
  },
  {
   "cell_type": "code",
   "execution_count": 24,
   "metadata": {},
   "outputs": [
    {
     "name": "stdout",
     "output_type": "stream",
     "text": [
      "1\n",
      "2\n",
      "3\n",
      "4\n",
      "5\n"
     ]
    },
    {
     "data": {
      "text/plain": [
       "null"
      ]
     },
     "execution_count": 24,
     "metadata": {},
     "output_type": "execute_result"
    }
   ],
   "source": [
    "import java.util.*;\n",
    "\n",
    "MyList<Integer> mylist = new MyList<>();\n",
    "mylist.addFirst(5);\n",
    "mylist.addFirst(4);\n",
    "mylist.addFirst(3);\n",
    "mylist.addFirst(2);\n",
    "mylist.addFirst(1);\n",
    "\n",
    "Iterator<Integer> it = mylist.iterator();\n",
    "while ( it.hasNext() ) {\n",
    "    System.out.println( it.next() );\n",
    "}"
   ]
  },
  {
   "cell_type": "code",
   "execution_count": 25,
   "metadata": {},
   "outputs": [
    {
     "name": "stdout",
     "output_type": "stream",
     "text": [
      "1\n",
      "2\n",
      "3\n",
      "4\n",
      "5\n"
     ]
    },
    {
     "data": {
      "text/plain": [
       "null"
      ]
     },
     "execution_count": 25,
     "metadata": {},
     "output_type": "execute_result"
    }
   ],
   "source": [
    "MyList<Integer> mylist = new MyList<>();\n",
    "mylist.addFirst(5);\n",
    "mylist.addFirst(4);\n",
    "mylist.addFirst(3);\n",
    "mylist.addFirst(2);\n",
    "mylist.addFirst(1);\n",
    "\n",
    "for (Integer v : mylist) {\n",
    "    System.out.println(v);\n",
    "}"
   ]
  },
  {
   "cell_type": "code",
   "execution_count": 26,
   "metadata": {},
   "outputs": [
    {
     "name": "stdout",
     "output_type": "stream",
     "text": [
      "1\n",
      "2\n",
      "3\n",
      "4\n",
      "5\n"
     ]
    },
    {
     "data": {
      "text/plain": [
       "null"
      ]
     },
     "execution_count": 26,
     "metadata": {},
     "output_type": "execute_result"
    }
   ],
   "source": [
    "int arr[] = {1,2,3,4,5};\n",
    "\n",
    "for (int v : arr) {\n",
    "    System.out.println(v);\n",
    "}"
   ]
  },
  {
   "cell_type": "markdown",
   "metadata": {},
   "source": [
    "# 44-03. Set 인터페이스"
   ]
  },
  {
   "cell_type": "code",
   "execution_count": 32,
   "metadata": {},
   "outputs": [
    {
     "name": "stdout",
     "output_type": "stream",
     "text": [
      "1\n",
      "2\n",
      "3\n"
     ]
    },
    {
     "data": {
      "text/plain": [
       "null"
      ]
     },
     "execution_count": 32,
     "metadata": {},
     "output_type": "execute_result"
    }
   ],
   "source": [
    "// 교과서 p.643 과 비슷한 예제\n",
    "import java.util.*;\n",
    "\n",
    "// LinkedList<Integer> set = new LinkedList<>();\n",
    "HashSet<Integer> set = new HashSet<>();\n",
    "set.add(2);\n",
    "set.add(3);\n",
    "set.add(1);\n",
    "set.add(2);\n",
    "set.add(2);\n",
    "\n",
    "\n",
    "for (Integer v : set) {\n",
    "    System.out.println(v);\n",
    "}"
   ]
  },
  {
   "cell_type": "markdown",
   "metadata": {},
   "source": [
    "# 44-07. Map 인터페이스"
   ]
  },
  {
   "cell_type": "code",
   "execution_count": 34,
   "metadata": {},
   "outputs": [
    {
     "name": "stdout",
     "output_type": "stream",
     "text": [
      "김철수\n",
      "김철수\n",
      "이영희\n",
      "박삼순\n",
      "null\n",
      "박미란\n"
     ]
    },
    {
     "data": {
      "text/plain": [
       "null"
      ]
     },
     "execution_count": 34,
     "metadata": {},
     "output_type": "execute_result"
    }
   ],
   "source": [
    "import java.util.*;\n",
    "\n",
    "HashMap<Integer, String> m1 = new HashMap<>();\n",
    "m1.put(20181111, \"김철수\");\n",
    "m1.put(20182222, \"김철수\");\n",
    "m1.put(20183333, \"이영희\");\n",
    "m1.put(20184444, \"박삼순\");\n",
    "\n",
    "System.out.println(m1.get(20181111));\n",
    "System.out.println(m1.get(20182222));\n",
    "System.out.println(m1.get(20183333));\n",
    "System.out.println(m1.get(20184444));\n",
    "System.out.println(m1.get(20189999)); // key에 할당된 value가 없으면 null을 리턴\n",
    "\n",
    "m1.put(20184444, \"박미란\");\n",
    "\n",
    "System.out.println(m1.get(20184444));"
   ]
  },
  {
   "cell_type": "code",
   "execution_count": 12,
   "metadata": {},
   "outputs": [
    {
     "name": "stdout",
     "output_type": "stream",
     "text": [
      "학번: 20181111, 이름: 김철수\n",
      "학번: 20183333, 이름: 이영희\n",
      "학번: 20182222, 이름: 김철수\n",
      "학번: 20184444, 이름: 박삼순\n",
      "학번: 20181111, 이름: 김철수\n",
      "학번: 20183333, 이름: 이영희\n",
      "학번: 20182222, 이름: 김철수\n",
      "학번: 20184444, 이름: 박삼순\n"
     ]
    },
    {
     "data": {
      "text/plain": [
       "null"
      ]
     },
     "execution_count": 12,
     "metadata": {},
     "output_type": "execute_result"
    }
   ],
   "source": [
    "import java.util.*;\n",
    "import org.apache.commons.lang3.tuple.*;\n",
    "\n",
    "HashMap<Integer, String> m1 = new HashMap<>();\n",
    "m1.put(20181111, \"김철수\");\n",
    "m1.put(20183333, \"이영희\");\n",
    "m1.put(20184444, \"박삼순\");\n",
    "m1.put(20182222, \"김철수\");\n",
    "\n",
    "for ( Map.Entry<Integer, String> e : m1.entrySet() ) {\n",
    "    System.out.println(\"학번: \"+e.getKey()+\", 이름: \"+e.getValue());\n",
    "}\n",
    "\n",
    "for ( Map.Entry<Integer, String> e : m1.entrySet() ) {\n",
    "    Pair<Integer, String> p = Pair.of(e.getKey(), e.getValue());\n",
    "    System.out.println(\"학번: \"+p.getLeft()+\", 이름: \"+p.getRight());\n",
    "}"
   ]
  },
  {
   "cell_type": "code",
   "execution_count": null,
   "metadata": {},
   "outputs": [],
   "source": []
  }
 ],
 "metadata": {
  "kernelspec": {
   "display_name": "Java",
   "language": "java",
   "name": "java"
  },
  "language_info": {
   "codemirror_mode": "text/x-java",
   "file_extension": ".java",
   "mimetype": "",
   "name": "Java",
   "nbconverter_exporter": "",
   "version": "1.8.0_121"
  },
  "toc": {
   "base_numbering": 1,
   "nav_menu": {},
   "number_sections": false,
   "sideBar": false,
   "skip_h1_title": false,
   "title_cell": "Table of Contents",
   "title_sidebar": "Contents",
   "toc_cell": false,
   "toc_position": {},
   "toc_section_display": false,
   "toc_window_display": false
  }
 },
 "nbformat": 4,
 "nbformat_minor": 2
}
