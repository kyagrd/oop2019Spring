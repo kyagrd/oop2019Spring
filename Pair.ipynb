{
 "cells": [
  {
   "cell_type": "code",
   "execution_count": 1,
   "metadata": {},
   "outputs": [
    {
     "data": {
      "text/plain": [
       "(3,4)"
      ]
     },
     "execution_count": 1,
     "metadata": {},
     "output_type": "execute_result"
    }
   ],
   "source": [
    "import org.apache.commons.lang3.tuple.*;\n",
    "\n",
    "return Pair.of(3,4); // 팩토리 메소드"
   ]
  },
  {
   "cell_type": "code",
   "execution_count": 3,
   "metadata": {},
   "outputs": [
    {
     "data": {
      "text/plain": [
       "(3,4)"
      ]
     },
     "execution_count": 3,
     "metadata": {},
     "output_type": "execute_result"
    }
   ],
   "source": [
    "import org.apache.commons.lang3.tuple.*;\n",
    "\n",
    "return new ImmutablePair<Integer,Integer>(3,4);"
   ]
  },
  {
   "cell_type": "code",
   "execution_count": 11,
   "metadata": {},
   "outputs": [
    {
     "ename": "cannot find symbol",
     "evalue": "cannot find symbol",
     "output_type": "error",
     "traceback": [
      "\u001b[1;31mcannot find symbol\u001b[0;0m",
      "\u001b[1;31m  symbol:   method setLeft(int)\u001b[0;0m",
      "\u001b[1;31m  location: variable imp of type org.apache.commons.lang3.tuple.ImmutablePair<java.lang.Integer,java.lang.Integer>\u001b[0;0m",
      "\u001b[1;31m imp.setLeft(5)\u001b[0;0m",
      "\u001b[1;31m ^          ^    \u001b[0;0m",
      "\u001b[1;31m\u001b[0;0m",
      "\u001b[1;31m/com/twosigma/beaker/javash/bkr9b7e0ca4/BeakerWrapperClass1261714175Id3c862421eb5a4e189424ce5f7356f9f7.java uses unchecked or unsafe operations.\u001b[0;0m",
      "\u001b[1;31mRecompile with -Xlint:unchecked for details.\u001b[0;0m"
     ]
    }
   ],
   "source": [
    "import org.apache.commons.lang3.tuple.*;\n",
    "\n",
    "Pair<Integer,Integer> p = Pair.of(3,4);\n",
    "\n",
    "System.out.println(p instanceof MutablePair);\n",
    "System.out.println(p instanceof ImmutablePair);\n",
    "\n",
    "\n",
    "System.out.println(p.getLeft());\n",
    "System.out.println(p.getKey());\n",
    "System.out.println(p.getRight());\n",
    "System.out.println(p.getValue());\n",
    "\n",
    "ImmutablePair<Integer,Integer> imp = (ImmutablePair)p;\n",
    "\n",
    "// imp.setLeft(5); // 3을 5로 변경 시도도 못한다 메소드 없음"
   ]
  },
  {
   "cell_type": "code",
   "execution_count": 17,
   "metadata": {},
   "outputs": [
    {
     "name": "stdout",
     "output_type": "stream",
     "text": [
      "(3,hello)\n",
      "(5,world)\n"
     ]
    },
    {
     "data": {
      "text/plain": [
       "null"
      ]
     },
     "execution_count": 17,
     "metadata": {},
     "output_type": "execute_result"
    }
   ],
   "source": [
    "import org.apache.commons.lang3.tuple.*;\n",
    "\n",
    "MutablePair<Integer,String> p = new MutablePair<>(3,\"hello\");\n",
    "\n",
    "System.out.println(p);\n",
    "\n",
    "p.setLeft(5);\n",
    "p.setRight(\"world\");\n",
    "\n",
    "System.out.println(p);"
   ]
  },
  {
   "cell_type": "code",
   "execution_count": 19,
   "metadata": {},
   "outputs": [
    {
     "name": "stdout",
     "output_type": "stream",
     "text": [
      "(3,hello)\n",
      "(5,world)\n"
     ]
    },
    {
     "data": {
      "text/plain": [
       "null"
      ]
     },
     "execution_count": 19,
     "metadata": {},
     "output_type": "execute_result"
    }
   ],
   "source": [
    "import org.apache.commons.lang3.tuple.*;\n",
    "\n",
    "Pair<Integer,String> p = Pair.of(3,\"hello\");\n",
    "\n",
    "System.out.println(p);\n",
    "\n",
    "//// 요것들은 안되지만\n",
    "// p.setLeft(5);\n",
    "// p.setRight(\"world\");\n",
    "\n",
    "p = Pair.of(5,\"world\");\n",
    "\n",
    "imSystem.out.println(p);"
   ]
  },
  {
   "cell_type": "code",
   "execution_count": 34,
   "metadata": {},
   "outputs": [
    {
     "name": "stdout",
     "output_type": "stream",
     "text": [
      "[]\n",
      "[(3,hello)]\n"
     ]
    },
    {
     "data": {
      "text/plain": [
       "null"
      ]
     },
     "execution_count": 34,
     "metadata": {},
     "output_type": "execute_result"
    }
   ],
   "source": [
    "import java.util.*;\n",
    "import org.apache.commons.lang3.tuple.*;\n",
    "\n",
    "Set< Map.Entry<Integer,String> > s = new HashSet<>();\n",
    "System.out.println(s);\n",
    "\n",
    "s.add( Pair.of(3,\"hello\") );\n",
    "\n",
    "System.out.println(s);"
   ]
  },
  {
   "cell_type": "markdown",
   "metadata": {},
   "source": [
    "# 수업시간이나 교과서에는 다루지 않았지만 중요한 주제들\n",
    "\n",
    "## 컨테이너 관련 고차함수, 람다식\n",
    "\n",
    "## 멀티스레드, 비동기 방식 프로그래밍\n",
    "\n",
    "## 기타 - 이펙티브 자바에 나오는 내용들, Java의 리플렉션, 코틀린 언어"
   ]
  },
  {
   "cell_type": "code",
   "execution_count": null,
   "metadata": {},
   "outputs": [],
   "source": []
  }
 ],
 "metadata": {
  "kernelspec": {
   "display_name": "Java",
   "language": "java",
   "name": "java"
  },
  "language_info": {
   "codemirror_mode": "text/x-java",
   "file_extension": ".java",
   "mimetype": "",
   "name": "Java",
   "nbconverter_exporter": "",
   "version": "11.0.1"
  },
  "toc": {
   "base_numbering": 1,
   "nav_menu": {},
   "number_sections": false,
   "sideBar": false,
   "skip_h1_title": false,
   "title_cell": "Table of Contents",
   "title_sidebar": "Contents",
   "toc_cell": false,
   "toc_position": {},
   "toc_section_display": false,
   "toc_window_display": false
  }
 },
 "nbformat": 4,
 "nbformat_minor": 2
}
