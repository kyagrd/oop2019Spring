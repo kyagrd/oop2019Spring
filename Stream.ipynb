{
 "cells": [
  {
   "cell_type": "markdown",
   "metadata": {},
   "source": [
    "# Stream이라는 건 뭔가? 왜 중간에 저런 단계를 거치나?\n",
    "\n",
    "1. 데이타 구조를 불필요하게 재구성하지 않고 파이프라인을 따라서 실행하다가 최종 결과만 collect로 (메모리 절약)\n",
    "2. 병렬처리의 가능성을 열어두기 위해 (stream API기반의 병렬처리 ...)"
   ]
  },
  {
   "cell_type": "code",
   "execution_count": 38,
   "metadata": {},
   "outputs": [
    {
     "name": "stdout",
     "output_type": "stream",
     "text": [
      "1\n",
      "2\n",
      "3\n",
      "4\n",
      "5\n",
      "6\n",
      "7\n",
      "8\n",
      "9\n",
      "10\n"
     ]
    },
    {
     "data": {
      "text/plain": [
       "null"
      ]
     },
     "execution_count": 38,
     "metadata": {},
     "output_type": "execute_result"
    }
   ],
   "source": [
    "import java.util.*;\n",
    "\n",
    "final List<Integer> numbers = Arrays.asList(1,2,3,4,5,6,7,8,9,10);\n",
    "\n",
    "numbers.stream().forEach( x -> System.out.println(x) );\n",
    "/*\n",
    "for (Integer x : numbers) {\n",
    "    System.out.println(x);\n",
    "}*/"
   ]
  },
  {
   "cell_type": "code",
   "execution_count": 33,
   "metadata": {},
   "outputs": [
    {
     "data": {
      "text/plain": [
       "[1, 4, 9, 16, 25, 36, 49, 64, 81, 100]"
      ]
     },
     "execution_count": 33,
     "metadata": {},
     "output_type": "execute_result"
    }
   ],
   "source": [
    "import java.util.*;\n",
    "\n",
    "final List<Integer> numbers = Arrays.asList(1,2,3,4,5,6,7,8,9,10);\n",
    "\n",
    "// numbers에 있는 내용을 제곱한 squars라는 걸 만들고 싶다고 치자\n",
    "\n",
    "List<Integer> squares = new ArrayList<>();\n",
    "\n",
    "for (Integer x : numbers) {\n",
    "    squares.add(x*x);\n",
    "}\n",
    "\n",
    "return squares;"
   ]
  },
  {
   "cell_type": "code",
   "execution_count": 16,
   "metadata": {},
   "outputs": [
    {
     "data": {
      "text/plain": [
       "[1, 4, 9, 16, 25, 36, 49, 64, 81, 100]"
      ]
     },
     "execution_count": 16,
     "metadata": {},
     "output_type": "execute_result"
    }
   ],
   "source": [
    "import java.util.*;\n",
    "import java.util.stream.*;\n",
    "\n",
    "final List<Integer> numbers = Arrays.asList(1,2,3,4,5,6,7,8,9,10);\n",
    "\n",
    "// numbers에 있는 내용을 제곱한 squars라는 걸 만들고 싶다고 치자\n",
    "List<Integer> squares = numbers.stream().map( x -> x*x ).collect( Collectors.toList() );\n",
    "\n",
    "return squares;"
   ]
  },
  {
   "cell_type": "code",
   "execution_count": 14,
   "metadata": {},
   "outputs": [
    {
     "data": {
      "text/plain": [
       "***"
      ]
     },
     "execution_count": 14,
     "metadata": {},
     "output_type": "execute_result"
    }
   ],
   "source": [
    "return new String(new char[3]).replace(\"\\0\", \"*\");"
   ]
  },
  {
   "cell_type": "code",
   "execution_count": 17,
   "metadata": {},
   "outputs": [
    {
     "data": {
      "text/plain": [
       "[*, **, ***, ****, *****, ******, *******, ********, *********, **********]"
      ]
     },
     "execution_count": 17,
     "metadata": {},
     "output_type": "execute_result"
    }
   ],
   "source": [
    "import java.util.*;\n",
    "import java.util.stream.*;\n",
    "\n",
    "final List<Integer> numbers = Arrays.asList(1,2,3,4,5,6,7,8,9,10);\n",
    "\n",
    "// numbers에 있는 개수만큼 별표가 반복되는 문자열들을 만들어내보자\n",
    "List<String> stars = numbers.stream()\n",
    "    .map( n -> new String(new char[n]).replace(\"\\0\", \"*\") )\n",
    "    .collect( Collectors.toList() );\n",
    "\n",
    "return stars;"
   ]
  },
  {
   "cell_type": "code",
   "execution_count": 18,
   "metadata": {},
   "outputs": [
    {
     "data": {
      "text/plain": [
       "3"
      ]
     },
     "execution_count": 18,
     "metadata": {},
     "output_type": "execute_result"
    }
   ],
   "source": [
    "return 7%4;"
   ]
  },
  {
   "cell_type": "code",
   "execution_count": 22,
   "metadata": {},
   "outputs": [
    {
     "data": {
      "text/plain": [
       "[2, 4, 6, 8, 10]"
      ]
     },
     "execution_count": 22,
     "metadata": {},
     "output_type": "execute_result"
    }
   ],
   "source": [
    "import java.util.*;\n",
    "import java.util.stream.*;\n",
    "\n",
    "final List<Integer> numbers = Arrays.asList(1,2,3,4,5,6,7,8,9,10);\n",
    "\n",
    "// 짝수만 골라봐\n",
    "List<Integer> squares = numbers.stream()\n",
    "    .filter( x -> x%2==0 )\n",
    "    .collect( Collectors.toList() );\n",
    "\n",
    "return squares;"
   ]
  },
  {
   "cell_type": "code",
   "execution_count": 40,
   "metadata": {},
   "outputs": [
    {
     "name": "stdout",
     "output_type": "stream",
     "text": [
      "4\n",
      "16\n",
      "36\n",
      "64\n",
      "100\n"
     ]
    },
    {
     "data": {
      "text/plain": [
       "[4, 16, 36, 64, 100]"
      ]
     },
     "execution_count": 40,
     "metadata": {},
     "output_type": "execute_result"
    }
   ],
   "source": [
    "import java.util.*;\n",
    "import java.util.stream.*;\n",
    "\n",
    "final List<Integer> numbers = Arrays.asList(1,2,3,4,5,6,7,8,9,10);\n",
    "\n",
    "// 짝수만 골라서 제곱한 결과를 모은 집합(Set)\n",
    "List<Integer> squaresOfevens = numbers.stream()\n",
    "    .filter( x -> x%2==0 ) // 짝수만 골라\n",
    "    .map( x -> x*x ) // 제곱해\n",
    "    .collect( Collectors.toList() ); // 다 모아\n",
    "\n",
    "squaresOfevens.forEach( x -> System.out.println(x) );\n",
    "\n",
    "return squaresOfevens;"
   ]
  },
  {
   "cell_type": "code",
   "execution_count": 28,
   "metadata": {},
   "outputs": [
    {
     "data": {
      "text/plain": [
       "Optional[55]"
      ]
     },
     "execution_count": 28,
     "metadata": {},
     "output_type": "execute_result"
    }
   ],
   "source": [
    "import java.util.*;\n",
    "import java.util.stream.*;\n",
    "\n",
    "final List<Integer> numbers = Arrays.asList(1,2,3,4,5,6,7,8,9,10);\n",
    "// 총합을 reduce로 구해보자\n",
    "return numbers.stream().reduce( (x,y) -> x+y );"
   ]
  },
  {
   "cell_type": "code",
   "execution_count": 29,
   "metadata": {},
   "outputs": [
    {
     "data": {
      "text/plain": [
       "Optional.empty"
      ]
     },
     "execution_count": 29,
     "metadata": {},
     "output_type": "execute_result"
    }
   ],
   "source": [
    "import java.util.*;\n",
    "import java.util.stream.*;\n",
    "\n",
    "final List<Integer> numbers = Arrays.asList();\n",
    "// 총합을 reduce로 구해보자\n",
    "return numbers.stream().reduce( (x,y) -> x+y );"
   ]
  },
  {
   "cell_type": "code",
   "execution_count": 31,
   "metadata": {},
   "outputs": [
    {
     "data": {
      "text/plain": [
       "Optional[3628800]"
      ]
     },
     "execution_count": 31,
     "metadata": {},
     "output_type": "execute_result"
    }
   ],
   "source": [
    "import java.util.*;\n",
    "import java.util.stream.*;\n",
    "\n",
    "final List<Integer> numbers = Arrays.asList(1,2,3,4,5,6,7,8,9,10);\n",
    "// 전보 다 곱한 결과를 reduce로 구해보자\n",
    "return numbers.stream().reduce( (x,y) -> x*y );"
   ]
  },
  {
   "cell_type": "code",
   "execution_count": 43,
   "metadata": {},
   "outputs": [
    {
     "data": {
      "text/plain": [
       "[1, 2, 3, 4, 5, 6, 7, 8, 9, 10]"
      ]
     },
     "execution_count": 43,
     "metadata": {},
     "output_type": "execute_result"
    }
   ],
   "source": [
    "import java.util.*;\n",
    "import java.util.stream.*;\n",
    "\n",
    "final List<Integer> numbers = Arrays.asList(8,9,10,1,4,2,7,3,5,6);\n",
    "\n",
    "\n",
    "// 정렬조건의 결과는 boolean이 아니라 -1 왼쪽을 앞으로 보내라 0 같다 1 오른쪽을 앞으로 보내라 \n",
    "return numbers.stream()\n",
    "    .sorted( (x,y) -> x-y ) // 정수의 기본 Comparator\n",
    "    .collect( Collectors.toList() );"
   ]
  },
  {
   "cell_type": "code",
   "execution_count": 44,
   "metadata": {},
   "outputs": [
    {
     "data": {
      "text/plain": [
       "[10, 9, 8, 7, 6, 5, 4, 3, 2, 1]"
      ]
     },
     "execution_count": 44,
     "metadata": {},
     "output_type": "execute_result"
    }
   ],
   "source": [
    "import java.util.*;\n",
    "import java.util.stream.*;\n",
    "\n",
    "final List<Integer> numbers = Arrays.asList(8,9,10,1,4,2,7,3,5,6);\n",
    "\n",
    "// 정렬조건의 결과는 boolean이 아니라 -1 왼쪽을 앞으로 보내라 0 같다 1 오른쪽을 앞으로 보내라 \n",
    "return numbers.stream()\n",
    "    .sorted( (x,y) -> y-x ) // 반대 순서\n",
    "    .collect( Collectors.toList() );"
   ]
  },
  {
   "cell_type": "code",
   "execution_count": 46,
   "metadata": {},
   "outputs": [
    {
     "data": {
      "text/plain": [
       "[abc, defg, hi, z]"
      ]
     },
     "execution_count": 46,
     "metadata": {},
     "output_type": "execute_result"
    }
   ],
   "source": [
    "import java.util.*;\n",
    "import java.util.stream.*;\n",
    "\n",
    "final List<String> strings = Arrays.asList(\"abc\",\"defg\",\"hi\",\"z\");\n",
    "\n",
    "// 정렬조건의 결과는 boolean이 아니라 -1 왼쪽을 앞으로 보내라 0 같다 1 오른쪽을 앞으로 보내라 \n",
    "return strings.stream()\n",
    "    .sorted() // 기본순서는 사전순\n",
    "    .collect( Collectors.toList() );"
   ]
  },
  {
   "cell_type": "code",
   "execution_count": 49,
   "metadata": {},
   "outputs": [
    {
     "data": {
      "text/plain": [
       "3"
      ]
     },
     "execution_count": 49,
     "metadata": {},
     "output_type": "execute_result"
    }
   ],
   "source": [
    "return \"abc\".length();"
   ]
  },
  {
   "cell_type": "code",
   "execution_count": 50,
   "metadata": {},
   "outputs": [
    {
     "data": {
      "text/plain": [
       "[z, hi, abc, defg]"
      ]
     },
     "execution_count": 50,
     "metadata": {},
     "output_type": "execute_result"
    }
   ],
   "source": [
    "import java.util.*;\n",
    "import java.util.stream.*;\n",
    "\n",
    "final List<String> strings = Arrays.asList(\"abc\",\"defg\",\"hi\",\"z\");\n",
    "\n",
    "// 정렬조건의 결과는 boolean이 아니라 -1 왼쪽을 앞으로 보내라 0 같다 1 오른쪽을 앞으로 보내라 \n",
    "return strings.stream()\n",
    "    .sorted( (x,y) -> x.length() - y.length() ) // 문자열 길이 오름차순 정렬\n",
    "    .collect( Collectors.toList() );"
   ]
  },
  {
   "cell_type": "code",
   "execution_count": 52,
   "metadata": {},
   "outputs": [
    {
     "data": {
      "text/plain": [
       "[defg, abc, hi, z]"
      ]
     },
     "execution_count": 52,
     "metadata": {},
     "output_type": "execute_result"
    }
   ],
   "source": [
    "import java.util.*;\n",
    "import java.util.stream.*;\n",
    "\n",
    "final List<String> strings = Arrays.asList(\"abc\",\"defg\",\"hi\",\"z\");\n",
    "\n",
    "// 정렬조건의 결과는 boolean이 아니라 -1 왼쪽을 앞으로 보내라 0 같다 1 오른쪽을 앞으로 보내라 \n",
    "return strings.stream()\n",
    "    .sorted( (x,y) -> y.length() - x.length() ) // 문자열 길이 내림차순 정렬\n",
    "    .collect( Collectors.toList() );"
   ]
  },
  {
   "cell_type": "code",
   "execution_count": 1,
   "metadata": {},
   "outputs": [
    {
     "data": {
      "text/plain": [
       "[1, 2, 3, 4, 5, 6, 7, 8, 9]"
      ]
     },
     "execution_count": 1,
     "metadata": {},
     "output_type": "execute_result"
    }
   ],
   "source": [
    "// 우리 과제에서 flat과 같은 일을 하는 스트림API 함수 concat을 이용해서 만들어 봅시다. \n",
    "import java.util.*;\n",
    "import java.util.stream.*;\n",
    "\n",
    "final List< List<Integer> > xss = Arrays.asList(\n",
    "    Arrays.asList(1,2),\n",
    "    Arrays.asList(3,4,5),\n",
    "    Arrays.asList(6,7,8,9)\n",
    ");\n",
    "\n",
    "// stream을 3개 만들어서 <- map으로 만들면 됨\n",
    "// 그것을 하나로 줄인다 즉 reduce\n",
    "return xss.stream() // 여기까지는 List< > 의 스트림\n",
    "    .map( l -> l.stream() ) // 이제부터는 스트림의 스트림\n",
    "    .reduce( (x,y) -> Stream.concat(x,y) ) // 스트림의 스트림이 하나의 옵셔널 스트림으로\n",
    "    .get() // (empty가 아니라는 걸 아니까) 옵셔널 안에 있는 스트림을 빼옴\n",
    "    .collect(Collectors.toList()); // 스트림이 다시 리스트로"
   ]
  },
  {
   "cell_type": "code",
   "execution_count": null,
   "metadata": {},
   "outputs": [],
   "source": []
  }
 ],
 "metadata": {
  "kernelspec": {
   "display_name": "Java",
   "language": "java",
   "name": "java"
  },
  "language_info": {
   "codemirror_mode": "text/x-java",
   "file_extension": ".java",
   "mimetype": "",
   "name": "Java",
   "nbconverter_exporter": "",
   "version": "1.8.0_121"
  },
  "toc": {
   "base_numbering": 1,
   "nav_menu": {},
   "number_sections": false,
   "sideBar": false,
   "skip_h1_title": false,
   "title_cell": "Table of Contents",
   "title_sidebar": "Contents",
   "toc_cell": false,
   "toc_position": {},
   "toc_section_display": false,
   "toc_window_display": false
  }
 },
 "nbformat": 4,
 "nbformat_minor": 2
}
